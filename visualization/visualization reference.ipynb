{
 "cells": [
  {
   "cell_type": "code",
   "execution_count": 58,
   "metadata": {},
   "outputs": [],
   "source": [
    "import json\n",
    "import os\n",
    "from typing import List, Tuple, Any\n",
    "from pathlib import Path\n",
    "import jsonlines\n",
    "from allennlp.data.vocabulary import Vocabulary\n",
    "from allennlp.models.archival import load_archive\n",
    "import numpy as np\n",
    "from matplotlib import pyplot as plt\n",
    "import networkx as nx\n",
    "import torch\n",
    "from allennlp.common.util import import_module_and_submodules\n",
    "from allennlp.predictors.predictor import Predictor, JsonDict\n",
    "import sys\n",
    "sys.path.append(\"../\")\n",
    "import logging\n",
    "from typing import List\n",
    "# import seaborn as sns\n",
    "import ipywidgets as widgets\n",
    "import matplotlib\n",
    "from IPython.display import display\n",
    "from box_embeddings.parameterizations.box_tensor import BoxTensor\n",
    "import tqdm\n",
    "%matplotlib notebook"
   ]
  },
  {
   "cell_type": "code",
   "execution_count": 62,
   "metadata": {},
   "outputs": [],
   "source": [
    "logging.basicConfig(format=\"%(asctime)s - %(levelname)s - %(name)s - %(message)s\", level=logging.INFO)\n",
    "logger = logging.getLogger(\"notebook\")"
   ]
  },
  {
   "cell_type": "code",
   "execution_count": 60,
   "metadata": {},
   "outputs": [],
   "source": [
    "# top level variables\n",
    "os.chdir('../')\n",
    "rundir = Path('.allennlp_models/run-20220224_095947-91cs6klj')\n",
    "model_path = rundir/'model.tar.gz'\n",
    "config_path = rundir/'config.json'\n",
    "vocab_file = rundir/'vocabulary'"
   ]
  },
  {
   "cell_type": "code",
   "execution_count": 61,
   "metadata": {},
   "outputs": [
    {
     "ename": "FileNotFoundError",
     "evalue": "[Errno 2] No such file or directory: '.allennlp_models/run-20220224_095947-91cs6klj/config.json'",
     "output_type": "error",
     "traceback": [
      "\u001B[0;31m---------------------------------------------------------------------------\u001B[0m",
      "\u001B[0;31mFileNotFoundError\u001B[0m                         Traceback (most recent call last)",
      "Input \u001B[0;32mIn [61]\u001B[0m, in \u001B[0;36m<module>\u001B[0;34m\u001B[0m\n\u001B[1;32m      1\u001B[0m \u001B[38;5;66;03m# load config\u001B[39;00m\n\u001B[0;32m----> 2\u001B[0m \u001B[38;5;28;01mwith\u001B[39;00m \u001B[38;5;28;43mopen\u001B[39;49m\u001B[43m(\u001B[49m\u001B[43mconfig_path\u001B[49m\u001B[43m)\u001B[49m \u001B[38;5;28;01mas\u001B[39;00m f:\n\u001B[1;32m      3\u001B[0m     config \u001B[38;5;241m=\u001B[39m json\u001B[38;5;241m.\u001B[39mload(f)\n",
      "\u001B[0;31mFileNotFoundError\u001B[0m: [Errno 2] No such file or directory: '.allennlp_models/run-20220224_095947-91cs6klj/config.json'"
     ]
    }
   ],
   "source": [
    "# load config\n",
    "with open(config_path) as f:\n",
    "    config = json.load(f)"
   ]
  },
  {
   "cell_type": "code",
   "execution_count": null,
   "metadata": {},
   "outputs": [],
   "source": [
    "os.getenv('PYTHONPATH')\n",
    "print('test')"
   ]
  },
  {
   "cell_type": "code",
   "execution_count": null,
   "metadata": {},
   "outputs": [],
   "source": [
    "import_module_and_submodules(\"box-mlc\")"
   ]
  },
  {
   "cell_type": "code",
   "execution_count": null,
   "metadata": {},
   "outputs": [],
   "source": [
    "# Step 1: Load the model\n",
    "archive = load_archive(\n",
    "    model_path,\n",
    ")\n",
    "# Step 2: Get the predictor\n",
    "predictor = Predictor.from_archive(\n",
    "        archive, \n",
    "        #args.predictor, \n",
    "        dataset_reader_to_load=\"validation\",\n",
    "        frozen = True\n",
    "    )\n",
    "# Switch on the vis mode on model\n",
    "predictor._model.visualization_mode = True"
   ]
  },
  {
   "cell_type": "code",
   "execution_count": null,
   "metadata": {},
   "outputs": [],
   "source": [
    "# Step 3: Perform predictions\n",
    "data = list(predictor._dataset_reader.read(config[\"validation_data_path\"]))\n",
    "logger.info(\"Done reading data...\")\n",
    "logger.info(\"Starting to predict\")\n",
    "predictions = []\n",
    "y_boxes: List[Tuple[List, List]] = []\n",
    "for x in tqdm.tqdm(data, desc=\"predicting\"):\n",
    "    r = predictor.predict_instance(x)\n",
    "    x_box_z = r[\"x_boxes_z\"]\n",
    "    x_box_Z = r[\"x_boxes_Z\"]\n",
    "    predictions.append(\n",
    "        {\n",
    "            \"label_scores\": r[\"scores\"],\n",
    "            \"predicted_labels\": r[\"predictions\"],\n",
    "            \"true_labels\": r[\"meta\"][\"labels\"],\n",
    "            \"x_box\": (x_box_z, x_box_Z),\n",
    "        }\n",
    "    )\n",
    "    if not y_boxes:\n",
    "        for y_box_z, y_box_Z in zip(r[\"y_boxes_z\"], r[\"y_boxes_Z\"]):\n",
    "            y_boxes.append((y_box_z, y_box_Z))"
   ]
  },
  {
   "cell_type": "code",
   "execution_count": null,
   "metadata": {},
   "outputs": [],
   "source": [
    "predictions[0]"
   ]
  },
  {
   "cell_type": "code",
   "execution_count": null,
   "metadata": {},
   "outputs": [],
   "source": []
  }
 ],
 "metadata": {
  "kernelspec": {
   "display_name": "Python 3 (ipykernel)",
   "language": "python",
   "name": "python3"
  },
  "language_info": {
   "codemirror_mode": {
    "name": "ipython",
    "version": 3
   },
   "file_extension": ".py",
   "mimetype": "text/x-python",
   "name": "python",
   "nbconvert_exporter": "python",
   "pygments_lexer": "ipython3",
   "version": "3.8.5"
  }
 },
 "nbformat": 4,
 "nbformat_minor": 4
}